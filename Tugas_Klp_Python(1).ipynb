{
  "nbformat": 4,
  "nbformat_minor": 0,
  "metadata": {
    "colab": {
      "name": "Tugas Klp Python.ipynb",
      "provenance": [],
      "collapsed_sections": []
    },
    "kernelspec": {
      "name": "python3",
      "display_name": "Python 3"
    },
    "language_info": {
      "name": "python"
    }
  },
  "cells": [
    {
      "cell_type": "markdown",
      "source": [
        "#Python Group Matplotlib\n",
        "#####Anggota:\n",
        "#####1.   Tobias Mikha Sulistiyo\n",
        "#####2.   Daud Ibadurahman\n",
        "#####3.   Putri Reghina Hilmi Prasasti\n",
        "#####4.   Sari Yuliastuti\n",
        "#####5.   Fitri Alfaqrina\n",
        "\n"
      ],
      "metadata": {
        "id": "W8xNteyI88vd"
      }
    },
    {
      "cell_type": "markdown",
      "source": [
        "#**Tipe Data String**"
      ],
      "metadata": {
        "id": "JxzQ6IC1Jito"
      }
    },
    {
      "cell_type": "markdown",
      "source": [
        "Data dibawah ini merupakan contoh data tipe **string**, yang biasanya digunakan untuk menyatakan karakter/kalimat berupa huruf ataupun angka. Biasanya tipe data string dipisahkan oleh ' ' ataupun \" \" Bisa juga mengunakan \"\"\" \"\"\" apabila akan menulis kalimat yang dipisahkan tiap baris baru."
      ],
      "metadata": {
        "id": "28C930QN_Fu0"
      }
    },
    {
      "cell_type": "code",
      "execution_count": 17,
      "metadata": {
        "id": "rmxGxswj85Xp"
      },
      "outputs": [],
      "source": [
        "a= 'Tobias'\n",
        "b= \"Daud\"\n",
        "c= 'Putri'\n",
        "d= \"Sari\"\n",
        "e= 'Fitri'"
      ]
    },
    {
      "cell_type": "code",
      "source": [
        "type (a)\n",
        "type (b)\n",
        "type (c)\n",
        "type (d)\n",
        "type (e)"
      ],
      "metadata": {
        "colab": {
          "base_uri": "https://localhost:8080/"
        },
        "id": "xbJrURo--pwq",
        "outputId": "258ca17f-d48c-4a00-a416-e9376c4466de"
      },
      "execution_count": 18,
      "outputs": [
        {
          "output_type": "execute_result",
          "data": {
            "text/plain": [
              "str"
            ]
          },
          "metadata": {},
          "execution_count": 18
        }
      ]
    },
    {
      "cell_type": "markdown",
      "source": [
        "Kita bisa memanggil variabel yang telah di run sebelumnya dan kita bisa kombinasikan dengan tulisan ataupun apa yang ingin kita tampilkan. Untuk pemisahnya kita menggunakan , "
      ],
      "metadata": {
        "id": "I_yqIJGgCBpY"
      }
    },
    {
      "cell_type": "code",
      "source": [
        "print (\"Anggota Kelompok Matplotlib adalah\", a, b, c, d, e)"
      ],
      "metadata": {
        "colab": {
          "base_uri": "https://localhost:8080/"
        },
        "id": "SGJw0tHEAzlE",
        "outputId": "0c29fba5-7766-484a-e5a1-a745b41af9a0"
      },
      "execution_count": 29,
      "outputs": [
        {
          "output_type": "stream",
          "name": "stdout",
          "text": [
            "Anggota Kelompok Matplotlib adalah Tobias Daud Putri Sari Fitri\n"
          ]
        }
      ]
    },
    {
      "cell_type": "markdown",
      "source": [
        "Berikut adalah contoh tipe data string yang menggunakan \"\"\" \"\"\" untuk kalimat yang dipisahkan enter"
      ],
      "metadata": {
        "id": "_wlQeJyiC5PA"
      }
    },
    {
      "cell_type": "code",
      "source": [
        "f= \"\"\"Ini adalah tugas yang kita buat bersama\n",
        "Kami berusaha supaya tugas ini dapat maksimal dan dapat diterima\n",
        "Semoga kalian tetap sehat selalu\"\"\""
      ],
      "metadata": {
        "id": "pThvGFhLCW4K"
      },
      "execution_count": 37,
      "outputs": []
    },
    {
      "cell_type": "code",
      "source": [
        "print (f)"
      ],
      "metadata": {
        "colab": {
          "base_uri": "https://localhost:8080/"
        },
        "id": "8MrEHut3DH3e",
        "outputId": "41c54257-1cad-403e-b784-c83afc4ec002"
      },
      "execution_count": 35,
      "outputs": [
        {
          "output_type": "stream",
          "name": "stdout",
          "text": [
            "Ini adalah tugas yang kita buat bersama\n",
            "Kami berusaha supaya tugas ini dapat maksimal dan dapat diterima\n",
            "Semoga kalian tetap sehat selalu\n"
          ]
        }
      ]
    },
    {
      "cell_type": "markdown",
      "source": [
        "Untuk pemisah baris selain dapat menggunakan enter, kita dapat menggunakan \\n untuk melakukannya tiap 1 \\n dapat memisahkan 1 baris. Apabila menggunakan enter, kita harus menggunakan \"\"\" \"\"\" agar berjalan. Namun apabila menggunakan \" \" atau ' ' kita harus menggunakan \\n untuk pemisah baris."
      ],
      "metadata": {
        "id": "ZKU9PqfLDmYP"
      }
    },
    {
      "cell_type": "code",
      "source": [
        "g= \"Ini adalah tugas yang kita buat bersama \\nKami berusaha supaya tugas ini dapat maksimal dan dapat diterima \\nSemoga kalian tetap sehat selalu\""
      ],
      "metadata": {
        "id": "30UjY-ssDOjJ"
      },
      "execution_count": 41,
      "outputs": []
    },
    {
      "cell_type": "code",
      "source": [
        "print(f,\"\\n\\n\",g)"
      ],
      "metadata": {
        "colab": {
          "base_uri": "https://localhost:8080/"
        },
        "id": "JWP1-8lQEd7W",
        "outputId": "e006ad80-f524-4c2c-c6d1-e7d5c59db185"
      },
      "execution_count": 46,
      "outputs": [
        {
          "output_type": "stream",
          "name": "stdout",
          "text": [
            "Ini adalah tugas yang kita buat bersama\n",
            "Kami berusaha supaya tugas ini dapat maksimal dan dapat diterima\n",
            "Semoga kalian tetap sehat selalu \n",
            "\n",
            " Ini adalah tugas yang kita buat bersama \n",
            "Kami berusaha supaya tugas ini dapat maksimal dan dapat diterima \n",
            "Semoga kalian tetap sehat selalu\n"
          ]
        }
      ]
    },
    {
      "cell_type": "markdown",
      "source": [
        ""
      ],
      "metadata": {
        "id": "Jzu36WBD87eT"
      }
    },
    {
      "cell_type": "markdown",
      "source": [
        "#**Tipe data Int**"
      ],
      "metadata": {
        "id": "hQGy59qfFBSh"
      }
    },
    {
      "cell_type": "markdown",
      "source": [
        "tipe data Integer/int digunakan untuk menyatakan bilangan bulat (Bilangan yang tidak dipisahkan koma)"
      ],
      "metadata": {
        "id": "NxOK59DAFSOd"
      }
    },
    {
      "cell_type": "code",
      "source": [
        "h= 20"
      ],
      "metadata": {
        "id": "FNdUchMzFG31"
      },
      "execution_count": 49,
      "outputs": []
    },
    {
      "cell_type": "code",
      "source": [
        "type(h)"
      ],
      "metadata": {
        "colab": {
          "base_uri": "https://localhost:8080/"
        },
        "id": "ZmOrhp5OFOdZ",
        "outputId": "499d37b9-38f5-4754-97c9-2836cc7d056d"
      },
      "execution_count": 50,
      "outputs": [
        {
          "output_type": "execute_result",
          "data": {
            "text/plain": [
              "int"
            ]
          },
          "metadata": {},
          "execution_count": 50
        }
      ]
    },
    {
      "cell_type": "markdown",
      "source": [
        "Kita bisa memanggil variabel yang telah kita jalankan sebelumnya"
      ],
      "metadata": {
        "id": "wq_RubSYF7Yl"
      }
    },
    {
      "cell_type": "code",
      "source": [
        "print(\"Umur\", a, \"adalah\", h)"
      ],
      "metadata": {
        "colab": {
          "base_uri": "https://localhost:8080/"
        },
        "id": "HYKAw5sMFtzE",
        "outputId": "70033f2b-87f3-483e-a688-2100f33b0549"
      },
      "execution_count": 52,
      "outputs": [
        {
          "output_type": "stream",
          "name": "stdout",
          "text": [
            "Umur Tobias adalah 20\n"
          ]
        }
      ]
    },
    {
      "cell_type": "markdown",
      "source": [
        "Apabila tipe data integer diberi tanda aritmatika (+ - * /) maka yang akan ditampilkan adalah hasil dari operasi aritmatika yang ditulis"
      ],
      "metadata": {
        "id": "uD7shvo9GVWm"
      }
    },
    {
      "cell_type": "code",
      "source": [
        "i= 17+16+23"
      ],
      "metadata": {
        "id": "E2_FD6p8GMXi"
      },
      "execution_count": 53,
      "outputs": []
    },
    {
      "cell_type": "code",
      "source": [
        "print(i)"
      ],
      "metadata": {
        "colab": {
          "base_uri": "https://localhost:8080/"
        },
        "id": "QfNjEbPWGRyW",
        "outputId": "41e99cbf-c473-4a4e-ab0c-3806298087c4"
      },
      "execution_count": 54,
      "outputs": [
        {
          "output_type": "stream",
          "name": "stdout",
          "text": [
            "56\n"
          ]
        }
      ]
    },
    {
      "cell_type": "markdown",
      "source": [
        "Sedangkan apabila tipe data yang kita gunakan adalah string, maka hasil yang akan keluar adalah operasi aritmatika tersebut"
      ],
      "metadata": {
        "id": "XqdjOIs-HD4j"
      }
    },
    {
      "cell_type": "code",
      "source": [
        "j='17+16+23'"
      ],
      "metadata": {
        "id": "ma_yNHTIG47o"
      },
      "execution_count": 55,
      "outputs": []
    },
    {
      "cell_type": "code",
      "source": [
        "print(j)"
      ],
      "metadata": {
        "colab": {
          "base_uri": "https://localhost:8080/"
        },
        "id": "e5PcBiYgG_Ja",
        "outputId": "fb1d0abf-0ac5-4469-a976-c65b82c4df6b"
      },
      "execution_count": 56,
      "outputs": [
        {
          "output_type": "stream",
          "name": "stdout",
          "text": [
            "17+16+23\n"
          ]
        }
      ]
    },
    {
      "cell_type": "markdown",
      "source": [
        "#**Tipe data Float**"
      ],
      "metadata": {
        "id": "MS2rsSbCHi4y"
      }
    },
    {
      "cell_type": "markdown",
      "source": [
        "Tipe data float digunakan untuk menyatakan bilangan yang mempunyai koma (Bilangan tak hingga) untuk python, tanda koma ditulis menggunakan titik"
      ],
      "metadata": {
        "id": "1N-giyI7HxbV"
      }
    },
    {
      "cell_type": "code",
      "source": [
        "k= 0.99"
      ],
      "metadata": {
        "id": "CiMMYN6zH7Dt"
      },
      "execution_count": 57,
      "outputs": []
    },
    {
      "cell_type": "code",
      "source": [
        "type(k)"
      ],
      "metadata": {
        "colab": {
          "base_uri": "https://localhost:8080/"
        },
        "id": "su6YAJDiH-hM",
        "outputId": "34a7023a-4c36-4807-e9d2-2c382c9e9ac0"
      },
      "execution_count": 58,
      "outputs": [
        {
          "output_type": "execute_result",
          "data": {
            "text/plain": [
              "float"
            ]
          },
          "metadata": {},
          "execution_count": 58
        }
      ]
    },
    {
      "cell_type": "markdown",
      "source": [
        "Tipe data float juga dapat digunakan untuk menampilkan hasil operasi aritmatika"
      ],
      "metadata": {
        "id": "zSRJj64OISiw"
      }
    },
    {
      "cell_type": "code",
      "source": [
        "l= 8.125 * 0.17 "
      ],
      "metadata": {
        "id": "eYLuDgqPIWnc"
      },
      "execution_count": 59,
      "outputs": []
    },
    {
      "cell_type": "code",
      "source": [
        "print(l)"
      ],
      "metadata": {
        "colab": {
          "base_uri": "https://localhost:8080/"
        },
        "id": "j1mdURCZIeb9",
        "outputId": "d825b301-b241-42fa-ce23-48d272ba8f45"
      },
      "execution_count": 63,
      "outputs": [
        {
          "output_type": "stream",
          "name": "stdout",
          "text": [
            "1.38125\n"
          ]
        }
      ]
    },
    {
      "cell_type": "markdown",
      "source": [
        "Apabila operasi Dalam float diubah menjadi string, maka output yang akan keluar dalah operasi tersebut bukan hasil dari operasi tersebut"
      ],
      "metadata": {
        "id": "CjY1F6sdLv2i"
      }
    },
    {
      "cell_type": "code",
      "source": [
        "o=\"8.125 * 0.17 \""
      ],
      "metadata": {
        "id": "Hw5FIIwlLkUF"
      },
      "execution_count": 68,
      "outputs": []
    },
    {
      "cell_type": "code",
      "source": [
        "print (o)"
      ],
      "metadata": {
        "colab": {
          "base_uri": "https://localhost:8080/"
        },
        "id": "sic99vfSLs9v",
        "outputId": "8e48291a-7828-4820-b14c-49897f34ac9e"
      },
      "execution_count": 69,
      "outputs": [
        {
          "output_type": "stream",
          "name": "stdout",
          "text": [
            "8.125 * 0.17 \n"
          ]
        }
      ]
    },
    {
      "cell_type": "markdown",
      "source": [
        "Kita juga bisa menuliskan rumus yang telah kita run sebelumnya ke operasi yang baru. Atau kita juga bisa menuliskannya di dalam print"
      ],
      "metadata": {
        "id": "rJjeDgN-KDMS"
      }
    },
    {
      "cell_type": "code",
      "source": [
        "m= l/i"
      ],
      "metadata": {
        "id": "cahPBEIdJ16q"
      },
      "execution_count": 64,
      "outputs": []
    },
    {
      "cell_type": "code",
      "source": [
        "print (m)"
      ],
      "metadata": {
        "colab": {
          "base_uri": "https://localhost:8080/"
        },
        "id": "zIsmzfyXJ92V",
        "outputId": "b53b24cd-824a-4d4f-b83d-167f88bf927b"
      },
      "execution_count": 65,
      "outputs": [
        {
          "output_type": "stream",
          "name": "stdout",
          "text": [
            "0.024665178571428574\n"
          ]
        }
      ]
    },
    {
      "cell_type": "code",
      "source": [
        "print(l-i)"
      ],
      "metadata": {
        "colab": {
          "base_uri": "https://localhost:8080/"
        },
        "id": "vMVL_eeiKNKO",
        "outputId": "c08901a2-30f6-4596-b3e5-5b8b75519835"
      },
      "execution_count": 67,
      "outputs": [
        {
          "output_type": "stream",
          "name": "stdout",
          "text": [
            "-54.61875\n"
          ]
        }
      ]
    },
    {
      "cell_type": "markdown",
      "source": [
        "#**Tipe data Complex**"
      ],
      "metadata": {
        "id": "m5zgW2eqNjF1"
      }
    },
    {
      "cell_type": "markdown",
      "source": [
        "Tipe data kompleks untuk menyatakan pasangan angka real dan imajiner, untuk imajinernya menggunakan huruf j sebagai penanda imajiner. Bilangan kompleks biasanya digunakan untuk menghitung sinyal, untuk menghitung grafik dan masih banyak lagi"
      ],
      "metadata": {
        "id": "0reuNuCOOHxn"
      }
    },
    {
      "cell_type": "code",
      "source": [
        "p= 17+ 2j"
      ],
      "metadata": {
        "id": "HSHEWUqeStic"
      },
      "execution_count": 71,
      "outputs": []
    },
    {
      "cell_type": "code",
      "source": [
        "type(p)"
      ],
      "metadata": {
        "colab": {
          "base_uri": "https://localhost:8080/"
        },
        "id": "lIvQravBSyHb",
        "outputId": "8e5d7a8b-60a4-4995-8b38-1880a62bb315"
      },
      "execution_count": 72,
      "outputs": [
        {
          "output_type": "execute_result",
          "data": {
            "text/plain": [
              "complex"
            ]
          },
          "metadata": {},
          "execution_count": 72
        }
      ]
    },
    {
      "cell_type": "markdown",
      "source": [
        "Apabila penanda imajinernya diganti huruf yang lain, maka akan terjadi eror dan tidak dapat dijalankan"
      ],
      "metadata": {
        "id": "Dfbgxi4HVPKp"
      }
    },
    {
      "cell_type": "code",
      "source": [
        "r= 17+2i"
      ],
      "metadata": {
        "colab": {
          "base_uri": "https://localhost:8080/",
          "height": 135
        },
        "id": "HO8ZJ7-NVG0w",
        "outputId": "e3f32d90-82ce-49b5-9d62-2710688c1c9e"
      },
      "execution_count": 89,
      "outputs": [
        {
          "output_type": "error",
          "ename": "SyntaxError",
          "evalue": "ignored",
          "traceback": [
            "\u001b[0;36m  File \u001b[0;32m\"<ipython-input-89-1cc957c5853e>\"\u001b[0;36m, line \u001b[0;32m1\u001b[0m\n\u001b[0;31m    r= 17+2i\u001b[0m\n\u001b[0m           ^\u001b[0m\n\u001b[0;31mSyntaxError\u001b[0m\u001b[0;31m:\u001b[0m invalid syntax\n"
          ]
        }
      ]
    },
    {
      "cell_type": "markdown",
      "source": [
        "Kita juga bisa melakukan operasi bilangan pada data tipe complex"
      ],
      "metadata": {
        "id": "OZOn_Ix9TN4d"
      }
    },
    {
      "cell_type": "code",
      "source": [
        "q= 16-3j + -8+7j"
      ],
      "metadata": {
        "id": "rZmMcgYvS227"
      },
      "execution_count": 84,
      "outputs": []
    },
    {
      "cell_type": "code",
      "source": [
        "print (q)"
      ],
      "metadata": {
        "colab": {
          "base_uri": "https://localhost:8080/"
        },
        "id": "ea4dAQAHTA57",
        "outputId": "aa7682cf-7f65-420f-c299-6d64d4f593c0"
      },
      "execution_count": 85,
      "outputs": [
        {
          "output_type": "stream",
          "name": "stdout",
          "text": [
            "(8+4j)\n"
          ]
        }
      ]
    },
    {
      "cell_type": "markdown",
      "source": [
        "untuk mengubah bilangan biasa menjadi complex, kita bisa menggunakan kode complex dengan dipisahkan koma"
      ],
      "metadata": {
        "id": "etb89uoMUBAl"
      }
    },
    {
      "cell_type": "code",
      "source": [
        "complex(17,3)"
      ],
      "metadata": {
        "colab": {
          "base_uri": "https://localhost:8080/"
        },
        "id": "qHmPUUgxTnnd",
        "outputId": "2b6a3564-5eed-47cc-f05e-555613134d44"
      },
      "execution_count": 87,
      "outputs": [
        {
          "output_type": "execute_result",
          "data": {
            "text/plain": [
              "(17+3j)"
            ]
          },
          "metadata": {},
          "execution_count": 87
        }
      ]
    }
  ]
}